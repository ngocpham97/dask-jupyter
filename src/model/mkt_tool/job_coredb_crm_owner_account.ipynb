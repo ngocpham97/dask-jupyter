{
 "cells": [
  {
   "cell_type": "markdown",
   "id": "e40bf452b23d163f",
   "metadata": {},
   "source": [
    "# **Import Library**"
   ]
  },
  {
   "cell_type": "markdown",
   "id": "67ffcb2f90c61d59",
   "metadata": {},
   "source": [
    "**Library**"
   ]
  },
  {
   "cell_type": "code",
   "execution_count": null,
   "id": "initial_id",
   "metadata": {
    "ExecuteTime": {
     "end_time": "2025-09-01T07:04:46.077179Z",
     "start_time": "2025-09-01T07:04:45.335022Z"
    },
    "collapsed": true
   },
   "outputs": [],
   "source": [
    "from variables.clickhouse import ClickHouseConfig\n",
    "from utils.common.yaml_providers import parse_yaml_file_to_json\n",
    "import logging\n",
    "from src.etl.transform.gcp2iceberg import ClickHouseToIcebergJob\n",
    "\n",
    "\n",
    "logger = logging.getLogger(__name__)\n",
    "\n",
    "YELLOW = \"\\033[93m\"\n",
    "GREEN = \"\\033[92m\"\n",
    "RESET = \"\\033[0m\""
   ]
  },
  {
   "cell_type": "markdown",
   "id": "ffd46bbdffa07412",
   "metadata": {},
   "source": [
    "\n",
    "# **Pre-Processing**"
   ]
  },
  {
   "cell_type": "markdown",
   "id": "303f8e3498e4e56a",
   "metadata": {},
   "source": [
    "**Config**"
   ]
  },
  {
   "cell_type": "code",
   "execution_count": 2,
   "id": "e9ad689e740ac8bf",
   "metadata": {
    "ExecuteTime": {
     "end_time": "2025-09-01T07:04:46.137689Z",
     "start_time": "2025-09-01T07:04:46.133152Z"
    }
   },
   "outputs": [],
   "source": [
    "MODEL_CONFIG_PATH = 'src/model/mkt_tool/schema/schema_staging_prod_db_coredb_crm_owner_account.yml'\n",
    "clickhouse_config = ClickHouseConfig.load()\n",
    "model_config = parse_yaml_file_to_json(MODEL_CONFIG_PATH)\n",
    "\n",
    "query = \"\"\"\n",
    "    SELECT\n",
    "        source,\n",
    "        status,\n",
    "        balance,\n",
    "        cust_type,\n",
    "        account_id,\n",
    "        last_modify,\n",
    "        lock_balance,\n",
    "        mig_cust_type,\n",
    "        mig_object_id,\n",
    "        mig_wallet_id,\n",
    "        account_number,\n",
    "        account_number_raw,\n",
    "        mig_object_type,\n",
    "        available_balance,\n",
    "        mig_object_status,\n",
    "        parent_account_id,\n",
    "        subscription_balance,\n",
    "        processing_time\n",
    "    FROM staging.staging_prod_db_coredb_crm_owner_account FINAL\n",
    "\"\"\""
   ]
  },
  {
   "cell_type": "markdown",
   "id": "3f43ad8171de793d",
   "metadata": {},
   "source": [
    "# **Run**"
   ]
  },
  {
   "cell_type": "code",
   "execution_count": 3,
   "id": "b917a11f1194b68e",
   "metadata": {
    "ExecuteTime": {
     "end_time": "2025-09-01T07:04:47.111914Z",
     "start_time": "2025-09-01T07:04:47.109123Z"
    }
   },
   "outputs": [
    {
     "name": "stderr",
     "output_type": "stream",
     "text": [
      "INFO:src.etl.transform.gcp2iceberg:\u001b[92mJob initialized for model: staging_prod_db_coredb_crm_owner_account\u001b[0m\n"
     ]
    }
   ],
   "source": [
    "clickhouse_to_iceberg_job = ClickHouseToIcebergJob(\n",
    "    clickhouse_config=clickhouse_config,\n",
    "    model_config=model_config,\n",
    "    query=query,\n",
    ")\n",
    "\n",
    "logger.info(YELLOW + \"Starting ClickHouse → Iceberg job with model '%s'\" % model_config['models'][0].get(\"name\") + RESET)\n",
    "\n",
    "clickhouse_to_iceberg_job.run()\n",
    "\n",
    "logger.info(GREEN + \"ClickHouse → Iceberg job for model '%s' completed successfully\" % model_config['models'][0].get(\"name\") + RESET)\n"
   ]
  }
 ],
 "metadata": {
  "kernelspec": {
   "display_name": "Python 3",
   "language": "python",
   "name": "python3"
  },
  "language_info": {
   "codemirror_mode": {
    "name": "ipython",
    "version": 2
   },
   "file_extension": ".py",
   "mimetype": "text/x-python",
   "name": "python",
   "nbconvert_exporter": "python",
   "pygments_lexer": "ipython2",
   "version": "2.7.6"
  }
 },
 "nbformat": 4,
 "nbformat_minor": 5
}
